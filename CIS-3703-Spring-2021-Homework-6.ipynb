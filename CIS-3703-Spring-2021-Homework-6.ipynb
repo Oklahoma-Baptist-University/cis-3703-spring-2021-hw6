{
 "cells": [
  {
   "cell_type": "markdown",
   "metadata": {},
   "source": [
    "Submitting this homework implies that you agree to the OBU Honor Code:\n",
    "\n",
    "<b>On my honor as an OBU student, I pledge that I have neither received aid nor given aid on this homework.</b>"
   ]
  },
  {
   "cell_type": "markdown",
   "metadata": {},
   "source": [
    "# CIS 3703 Python Programming Homework #6"
   ]
  },
  {
   "cell_type": "markdown",
   "metadata": {},
   "source": [
    "Using this notebook, perform following tasks described in the README.md file.\n",
    "\n",
    "Clearly document the task as you implement them, either through a Notebook markdown or via Python comments."
   ]
  },
  {
   "cell_type": "code",
   "execution_count": null,
   "metadata": {},
   "outputs": [],
   "source": []
  }
 ],
 "metadata": {
  "kernelspec": {
   "display_name": "Python 3",
   "language": "python",
   "name": "python3"
  },
  "language_info": {
   "codemirror_mode": {
    "name": "ipython",
    "version": 3
   },
   "file_extension": ".py",
   "mimetype": "text/x-python",
   "name": "python",
   "nbconvert_exporter": "python",
   "pygments_lexer": "ipython3",
   "version": "3.9.1"
  }
 },
 "nbformat": 4,
 "nbformat_minor": 4
}
