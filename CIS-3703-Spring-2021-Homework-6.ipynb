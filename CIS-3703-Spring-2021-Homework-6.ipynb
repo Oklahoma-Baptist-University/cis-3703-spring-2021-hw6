{
 "cells": [
  {
   "cell_type": "markdown",
   "metadata": {},
   "source": [
    "Submitting this homework implies that you agree to the OBU Honor Code:\n",
    "\n",
    "<b>On my honor as an OBU student, I pledge that I have neither received aid nor given aid on this homework.</b>"
   ]
  },
  {
   "cell_type": "markdown",
   "metadata": {},
   "source": [
    "# CIS 3703 Python Programming Homework #6"
   ]
  },
  {
   "cell_type": "markdown",
   "metadata": {},
   "source": [
    "Using this notebook, perform following tasks described in the README.md file.\n",
    "\n",
    "Clearly document the task as you implement them, either through a Notebook markdown or via Python comments."
   ]
  },
  {
   "cell_type": "code",
   "execution_count": 1,
   "metadata": {},
   "outputs": [],
   "source": [
    "import math"
   ]
  },
  {
   "cell_type": "markdown",
   "metadata": {},
   "source": [
    "## Problem 3"
   ]
  },
  {
   "cell_type": "code",
   "execution_count": 52,
   "metadata": {},
   "outputs": [],
   "source": [
    "def sphere_area(radius):\n",
    "    \"\"\"Return the area of a sphere\"\"\"\n",
    "    return 4 * math.pi * radius ** 2"
   ]
  },
  {
   "cell_type": "code",
   "execution_count": 53,
   "metadata": {},
   "outputs": [],
   "source": [
    "def sphere_volume(radius):\n",
    "    \"\"\"Return the volume of a sphere\"\"\"\n",
    "    return (4 / 3) * math.pi * radius ** 3"
   ]
  },
  {
   "cell_type": "code",
   "execution_count": 54,
   "metadata": {},
   "outputs": [
    {
     "name": "stdout",
     "output_type": "stream",
     "text": [
      "Enter radius >4\n",
      "Area 201.06\n",
      "Volume 268.08\n"
     ]
    }
   ],
   "source": [
    "radius = eval(input(\"Enter radius >\"))\n",
    "print(\"Area {0:0.2f}\".format(sphere_area(radius)))\n",
    "print(\"Volume {0:0.2f}\".format(sphere_volume(radius)))"
   ]
  },
  {
   "cell_type": "code",
   "execution_count": 55,
   "metadata": {},
   "outputs": [],
   "source": [
    "def sphere_geometry(radius):\n",
    "    \"\"\"This function returns both the area and the volume\"\"\"\n",
    "    area = 4 * math.pi * radius ** 2\n",
    "    volume = (4 / 3) * math.pi * radius ** 3\n",
    "    return area, volume"
   ]
  },
  {
   "cell_type": "code",
   "execution_count": 56,
   "metadata": {},
   "outputs": [
    {
     "name": "stdout",
     "output_type": "stream",
     "text": [
      "Enter radius >4\n",
      "Area 201.06\n",
      "Volume 268.08\n"
     ]
    }
   ],
   "source": [
    "radius = eval(input(\"Enter radius >\"))\n",
    "area, volume = sphere_geometry(radius)\n",
    "print(\"Area {0:0.2f}\".format(area))\n",
    "print(\"Volume {0:0.2f}\".format(volume))"
   ]
  },
  {
   "cell_type": "markdown",
   "metadata": {},
   "source": [
    "## Problem 4"
   ]
  },
  {
   "cell_type": "code",
   "execution_count": 57,
   "metadata": {},
   "outputs": [],
   "source": [
    "def sum_n(n):\n",
    "    \"\"\"Find the sum of the natural numbers up to and including n\"\"\"\n",
    "    sum = 0\n",
    "    for i in range(0, n + 1):\n",
    "        sum = sum + i\n",
    "    return sum\n",
    "\n",
    "def sum_n_cubes(n):\n",
    "    \"\"\"Find the sum of the cubes of the natural numbers up to and\n",
    "    including n\"\"\"\n",
    "    sum = 0\n",
    "    for i in range(0, n + 1):\n",
    "        sum = sum + i ** 3\n",
    "    return sum"
   ]
  },
  {
   "cell_type": "code",
   "execution_count": 58,
   "metadata": {},
   "outputs": [
    {
     "name": "stdout",
     "output_type": "stream",
     "text": [
      "Enter an n >4\n",
      "Sum of first n natural numbers 10\n",
      "Sum of cubes of first n natural numbers 100\n"
     ]
    }
   ],
   "source": [
    "n = eval(input(\"Enter an n >\"))\n",
    "print(\"Sum of first n natural numbers\", sum_n(n))\n",
    "print(\"Sum of cubes of first n natural numbers\", sum_n_cubes(n))"
   ]
  },
  {
   "cell_type": "markdown",
   "metadata": {},
   "source": [
    "## Problem 7"
   ]
  },
  {
   "cell_type": "code",
   "execution_count": 59,
   "metadata": {},
   "outputs": [],
   "source": [
    "def fibonacci(n):\n",
    "    \"\"\"Find the Fibonacci sequence up to and including n\"\"\"\n",
    "    # Initialize to the first two elements\n",
    "    fibonacci_sequence = [1, 1]\n",
    "    # Iterate through the third through the nth number. The first\n",
    "    # two items are already in the list, so we don't need to\n",
    "    # do those.\n",
    "    for i in range(2, n + 1):\n",
    "        # This is the Fibonacci formula. Append that item to the list\n",
    "        fibonacci_sequence.append(fibonacci_sequence[i - 2] + fibonacci_sequence[i - 1])\n",
    "    return fibonacci_sequence"
   ]
  },
  {
   "cell_type": "code",
   "execution_count": 60,
   "metadata": {},
   "outputs": [
    {
     "name": "stdout",
     "output_type": "stream",
     "text": [
      "Enter an n for fibonacci sequence >7\n"
     ]
    },
    {
     "data": {
      "text/plain": [
       "[1, 1, 2, 3, 5, 8, 13, 21]"
      ]
     },
     "execution_count": 60,
     "metadata": {},
     "output_type": "execute_result"
    }
   ],
   "source": [
    "n = eval(input(\"Enter an n for fibonacci sequence >\"))\n",
    "fibonacci(n)"
   ]
  },
  {
   "cell_type": "markdown",
   "metadata": {},
   "source": [
    "## Problem 8"
   ]
  },
  {
   "cell_type": "code",
   "execution_count": 61,
   "metadata": {},
   "outputs": [],
   "source": [
    "def next_guess(x, guess):\n",
    "    \"\"\"Return the formula for the next guess\"\"\"\n",
    "    return (guess + (x / guess)) / 2\n",
    "\n",
    "def do_the_guess(x, n):\n",
    "    \"\"\"The guess is a sequence of updates to the guess (using the\n",
    "    formula above). Update and return the guess\"\"\"\n",
    "    # Initialize the guess\n",
    "    guess = x / 2\n",
    "    # Iterate the specified number of guesses\n",
    "    for i in range (1, n + 1):\n",
    "        # Update the guess\n",
    "        guess = next_guess(x, guess)\n",
    "    return guess"
   ]
  },
  {
   "cell_type": "code",
   "execution_count": 62,
   "metadata": {},
   "outputs": [
    {
     "name": "stdout",
     "output_type": "stream",
     "text": [
      "Enter the number for the value x >56\n",
      "Enter the number of guess attempts >2\n",
      "The difference between the guess and the actual is {0} -1.8833518931187845\n"
     ]
    }
   ],
   "source": [
    "x = eval(input(\"Enter the number for the value x >\"))\n",
    "n = eval(input(\"Enter the number of guess attempts >\"))\n",
    "guess = do_the_guess(x, n)\n",
    "print(\"The difference between the guess and the actual is {0}\", math.sqrt(x)-guess)"
   ]
  },
  {
   "cell_type": "markdown",
   "metadata": {},
   "source": [
    "## Problem 11"
   ]
  },
  {
   "cell_type": "code",
   "execution_count": 63,
   "metadata": {},
   "outputs": [],
   "source": [
    "def square_each(num_list):\n",
    "    \"\"\"Square each number in the list.\"\"\"\n",
    "    for i in range(len(num_list)):\n",
    "        # Replace each element in the list with its square\n",
    "        num_list[i] = num_list[i] ** 2\n",
    "    return num_list"
   ]
  },
  {
   "cell_type": "code",
   "execution_count": 64,
   "metadata": {},
   "outputs": [
    {
     "data": {
      "text/plain": [
       "[1, 4, 9, 16, 25]"
      ]
     },
     "execution_count": 64,
     "metadata": {},
     "output_type": "execute_result"
    }
   ],
   "source": [
    "square_each([1, 2, 3, 4, 5])"
   ]
  },
  {
   "cell_type": "markdown",
   "metadata": {},
   "source": [
    "## Problem 12"
   ]
  },
  {
   "cell_type": "code",
   "execution_count": 65,
   "metadata": {},
   "outputs": [],
   "source": [
    "def sum_list(num_list):\n",
    "    \"\"\"Find the sum of a list of elements.\"\"\"\n",
    "    # Initialize the total\n",
    "    total = 0\n",
    "    # Iterate through all the elements of the list\n",
    "    for i in range(len(num_list)):\n",
    "        # Add the current item to the total\n",
    "        total = total + num_list[i]\n",
    "    return total"
   ]
  },
  {
   "cell_type": "code",
   "execution_count": 66,
   "metadata": {},
   "outputs": [
    {
     "data": {
      "text/plain": [
       "1"
      ]
     },
     "execution_count": 66,
     "metadata": {},
     "output_type": "execute_result"
    }
   ],
   "source": [
    "sum_list([1])"
   ]
  },
  {
   "cell_type": "code",
   "execution_count": 67,
   "metadata": {},
   "outputs": [
    {
     "data": {
      "text/plain": [
       "10"
      ]
     },
     "execution_count": 67,
     "metadata": {},
     "output_type": "execute_result"
    }
   ],
   "source": [
    "sum_list([1, 4, 5])"
   ]
  },
  {
   "cell_type": "markdown",
   "metadata": {},
   "source": [
    "## Problem 13"
   ]
  },
  {
   "cell_type": "code",
   "execution_count": 68,
   "metadata": {},
   "outputs": [],
   "source": [
    "def to_numbers(num_list):\n",
    "    \"\"\"Convert a list of strings to the corresponding numbers\"\"\"\n",
    "    # Iterate through all the numbers in the list\n",
    "    for i in range(len(num_list)):\n",
    "        # Replace each element in the list by its numeric equivalent\n",
    "        num_list[i] = eval(num_list[i])\n",
    "    return num_list"
   ]
  },
  {
   "cell_type": "code",
   "execution_count": 69,
   "metadata": {},
   "outputs": [
    {
     "data": {
      "text/plain": [
       "[1, 3, 5]"
      ]
     },
     "execution_count": 69,
     "metadata": {},
     "output_type": "execute_result"
    }
   ],
   "source": [
    "to_numbers([\"1\", \"3\", \"5\"])"
   ]
  },
  {
   "cell_type": "markdown",
   "metadata": {},
   "source": [
    "## Problem 14"
   ]
  },
  {
   "cell_type": "code",
   "execution_count": 70,
   "metadata": {},
   "outputs": [],
   "source": [
    "def compute_sum_of_squares():\n",
    "    \"\"\"This function computes the sum of the squares of numbers stored in a file.\"\"\"\n",
    "    # Get and open the file\n",
    "    file_name = input(\"Enter the name of the file >\")\n",
    "    infile = open(file_name, \"r\")\n",
    "    # Initialize the list\n",
    "    in_data = []\n",
    "    # Read the data into a list\n",
    "    for line in infile:\n",
    "        in_data.append(line)\n",
    "    # Compute and print the sum of the squares\n",
    "    print(\"The sum of the squares =\", sum_list(square_each(to_numbers(in_data))))\n",
    "    # Close the file\n",
    "    infile.close()"
   ]
  },
  {
   "cell_type": "code",
   "execution_count": 71,
   "metadata": {},
   "outputs": [
    {
     "name": "stdout",
     "output_type": "stream",
     "text": [
      "Enter the name of the file >hw6.dat\n",
      "The sum of the squares = 109\n"
     ]
    }
   ],
   "source": [
    "compute_sum_of_squares()"
   ]
  },
  {
   "cell_type": "code",
   "execution_count": null,
   "metadata": {},
   "outputs": [],
   "source": []
  }
 ],
 "metadata": {
  "kernelspec": {
   "display_name": "Python 3",
   "language": "python",
   "name": "python3"
  },
  "language_info": {
   "codemirror_mode": {
    "name": "ipython",
    "version": 3
   },
   "file_extension": ".py",
   "mimetype": "text/x-python",
   "name": "python",
   "nbconvert_exporter": "python",
   "pygments_lexer": "ipython3",
   "version": "3.9.1"
  }
 },
 "nbformat": 4,
 "nbformat_minor": 4
}
